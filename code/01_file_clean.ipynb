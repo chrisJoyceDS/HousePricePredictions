{
 "cells": [
  {
   "cell_type": "markdown",
   "id": "21e6acaf-ace7-46b9-a499-c15e2d7a71ba",
   "metadata": {},
   "source": [
    "## Problem Statement"
   ]
  },
  {
   "cell_type": "markdown",
   "id": "e5ee2769-a14f-4626-ac63-43795adcd7b1",
   "metadata": {},
   "source": [
    "##### During lab 3.01 I observed a potential correlation between squarefeet and price. This to me is a natural occurrence because property represented as area represents the non-depreciative asset of land ownership. Addtionally, having many conversations with Bede, there became a focus on the relationships between quality/conditon and salesprice.\n",
    "\n",
    "##### This raises the question: Are descriptors of depreciation (quality/cond) better estimators of sales price than descriptors of value (property size by sqft)? \n",
    "\n",
    "#### H0: The true mean difference in RMSE between models who have more Qual/Cond features than those who do not is 0. \n",
    "\n",
    "#### H1: The true mean difference in RMSE between models who have more Qual/Cond features than those who do not is NOT 0. \n",
    "\n",
    "> $H_0: \\mu_\\text{trl_RMSE} - \\mu_\\text{ctrl_RMSE} = 0$ <br>\n",
    "> $H_A: \\mu_\\text{trt_RMSE} - \\mu_\\text{ctrl_RMSE}\\ne0$ <br>\n",
    "### $$P(\\text{data}\\;|\\;H_0 \\text{ true})$$\n",
    "$$\\alpha=0.05$$\n"
   ]
  },
  {
   "cell_type": "markdown",
   "id": "f60684a2-55d4-427c-9097-ea4c771f7691",
   "metadata": {},
   "source": [
    "#### Method for Testing\n",
    "\n",
    "- ##### Import Data\n",
    "- ##### Observe and Clean Data\n",
    "- ##### EDA Stats and EDA Visuals\n",
    "- ##### Identify key Value and Cost Features\n",
    "- ##### Create two models\n",
    "    - ##### More Value than Qual/Cond Features\n",
    "    - ##### More Qual/Cond than Value Features\n",
    "- ##### Score and Record all R2 and RMSE scores from respective models\n",
    "- ##### Plot Scores and Compare performance\n",
    "- ##### Denote p-value and confidence level for RMSE scores "
   ]
  },
  {
   "cell_type": "code",
   "execution_count": 10,
   "id": "0410306f-0f67-4711-bacc-301a26af6ee5",
   "metadata": {},
   "outputs": [],
   "source": [
    "# operating system\n",
    "import os\n",
    "# Data Manip & View\n",
    "import pandas as pd\n",
    "import missingno as msno\n",
    "# Math\n",
    "import numpy as np"
   ]
  },
  {
   "cell_type": "markdown",
   "id": "f6bb2848-d054-4b66-a63a-f5053f78e9af",
   "metadata": {},
   "source": [
    "Load Datasets"
   ]
  },
  {
   "cell_type": "code",
   "execution_count": 6,
   "id": "01b0d757-48a2-4267-a5a9-749ca414e368",
   "metadata": {},
   "outputs": [],
   "source": [
    "df_train = pd.read_csv('../datasets/train.csv')\n",
    "df_test = pd.read_csv('../datasets/test.csv')"
   ]
  },
  {
   "cell_type": "markdown",
   "id": "66086ce5-916a-44e3-8ae6-a11227f35658",
   "metadata": {},
   "source": [
    "Lower snake case column heads"
   ]
  },
  {
   "cell_type": "code",
   "execution_count": 7,
   "id": "15e2e1cc-6edc-494c-9ff5-fc4525baa1ec",
   "metadata": {},
   "outputs": [],
   "source": [
    "df_train.columns = [col.lower().replace(' ', '_') for col in df_train.columns]\n",
    "df_test.columns =  [col.lower().replace(' ', '_') for col in df_test.columns]"
   ]
  },
  {
   "cell_type": "code",
   "execution_count": 8,
   "id": "e628c0e0-2450-4012-8e23-0e06bca76944",
   "metadata": {},
   "outputs": [
    {
     "data": {
      "text/html": [
       "<div>\n",
       "<style scoped>\n",
       "    .dataframe tbody tr th:only-of-type {\n",
       "        vertical-align: middle;\n",
       "    }\n",
       "\n",
       "    .dataframe tbody tr th {\n",
       "        vertical-align: top;\n",
       "    }\n",
       "\n",
       "    .dataframe thead th {\n",
       "        text-align: right;\n",
       "    }\n",
       "</style>\n",
       "<table border=\"1\" class=\"dataframe\">\n",
       "  <thead>\n",
       "    <tr style=\"text-align: right;\">\n",
       "      <th></th>\n",
       "      <th>id</th>\n",
       "      <th>pid</th>\n",
       "      <th>ms_subclass</th>\n",
       "      <th>ms_zoning</th>\n",
       "      <th>lot_frontage</th>\n",
       "      <th>lot_area</th>\n",
       "      <th>street</th>\n",
       "      <th>alley</th>\n",
       "      <th>lot_shape</th>\n",
       "      <th>land_contour</th>\n",
       "      <th>...</th>\n",
       "      <th>screen_porch</th>\n",
       "      <th>pool_area</th>\n",
       "      <th>pool_qc</th>\n",
       "      <th>fence</th>\n",
       "      <th>misc_feature</th>\n",
       "      <th>misc_val</th>\n",
       "      <th>mo_sold</th>\n",
       "      <th>yr_sold</th>\n",
       "      <th>sale_type</th>\n",
       "      <th>saleprice</th>\n",
       "    </tr>\n",
       "  </thead>\n",
       "  <tbody>\n",
       "    <tr>\n",
       "      <th>0</th>\n",
       "      <td>109</td>\n",
       "      <td>533352170</td>\n",
       "      <td>60</td>\n",
       "      <td>RL</td>\n",
       "      <td>NaN</td>\n",
       "      <td>13517</td>\n",
       "      <td>Pave</td>\n",
       "      <td>NaN</td>\n",
       "      <td>IR1</td>\n",
       "      <td>Lvl</td>\n",
       "      <td>...</td>\n",
       "      <td>0</td>\n",
       "      <td>0</td>\n",
       "      <td>NaN</td>\n",
       "      <td>NaN</td>\n",
       "      <td>NaN</td>\n",
       "      <td>0</td>\n",
       "      <td>3</td>\n",
       "      <td>2010</td>\n",
       "      <td>WD</td>\n",
       "      <td>130500</td>\n",
       "    </tr>\n",
       "    <tr>\n",
       "      <th>1</th>\n",
       "      <td>544</td>\n",
       "      <td>531379050</td>\n",
       "      <td>60</td>\n",
       "      <td>RL</td>\n",
       "      <td>43.0</td>\n",
       "      <td>11492</td>\n",
       "      <td>Pave</td>\n",
       "      <td>NaN</td>\n",
       "      <td>IR1</td>\n",
       "      <td>Lvl</td>\n",
       "      <td>...</td>\n",
       "      <td>0</td>\n",
       "      <td>0</td>\n",
       "      <td>NaN</td>\n",
       "      <td>NaN</td>\n",
       "      <td>NaN</td>\n",
       "      <td>0</td>\n",
       "      <td>4</td>\n",
       "      <td>2009</td>\n",
       "      <td>WD</td>\n",
       "      <td>220000</td>\n",
       "    </tr>\n",
       "    <tr>\n",
       "      <th>2</th>\n",
       "      <td>153</td>\n",
       "      <td>535304180</td>\n",
       "      <td>20</td>\n",
       "      <td>RL</td>\n",
       "      <td>68.0</td>\n",
       "      <td>7922</td>\n",
       "      <td>Pave</td>\n",
       "      <td>NaN</td>\n",
       "      <td>Reg</td>\n",
       "      <td>Lvl</td>\n",
       "      <td>...</td>\n",
       "      <td>0</td>\n",
       "      <td>0</td>\n",
       "      <td>NaN</td>\n",
       "      <td>NaN</td>\n",
       "      <td>NaN</td>\n",
       "      <td>0</td>\n",
       "      <td>1</td>\n",
       "      <td>2010</td>\n",
       "      <td>WD</td>\n",
       "      <td>109000</td>\n",
       "    </tr>\n",
       "    <tr>\n",
       "      <th>3</th>\n",
       "      <td>318</td>\n",
       "      <td>916386060</td>\n",
       "      <td>60</td>\n",
       "      <td>RL</td>\n",
       "      <td>73.0</td>\n",
       "      <td>9802</td>\n",
       "      <td>Pave</td>\n",
       "      <td>NaN</td>\n",
       "      <td>Reg</td>\n",
       "      <td>Lvl</td>\n",
       "      <td>...</td>\n",
       "      <td>0</td>\n",
       "      <td>0</td>\n",
       "      <td>NaN</td>\n",
       "      <td>NaN</td>\n",
       "      <td>NaN</td>\n",
       "      <td>0</td>\n",
       "      <td>4</td>\n",
       "      <td>2010</td>\n",
       "      <td>WD</td>\n",
       "      <td>174000</td>\n",
       "    </tr>\n",
       "    <tr>\n",
       "      <th>4</th>\n",
       "      <td>255</td>\n",
       "      <td>906425045</td>\n",
       "      <td>50</td>\n",
       "      <td>RL</td>\n",
       "      <td>82.0</td>\n",
       "      <td>14235</td>\n",
       "      <td>Pave</td>\n",
       "      <td>NaN</td>\n",
       "      <td>IR1</td>\n",
       "      <td>Lvl</td>\n",
       "      <td>...</td>\n",
       "      <td>0</td>\n",
       "      <td>0</td>\n",
       "      <td>NaN</td>\n",
       "      <td>NaN</td>\n",
       "      <td>NaN</td>\n",
       "      <td>0</td>\n",
       "      <td>3</td>\n",
       "      <td>2010</td>\n",
       "      <td>WD</td>\n",
       "      <td>138500</td>\n",
       "    </tr>\n",
       "  </tbody>\n",
       "</table>\n",
       "<p>5 rows × 81 columns</p>\n",
       "</div>"
      ],
      "text/plain": [
       "    id        pid  ms_subclass ms_zoning  lot_frontage  lot_area street alley  \\\n",
       "0  109  533352170           60        RL           NaN     13517   Pave   NaN   \n",
       "1  544  531379050           60        RL          43.0     11492   Pave   NaN   \n",
       "2  153  535304180           20        RL          68.0      7922   Pave   NaN   \n",
       "3  318  916386060           60        RL          73.0      9802   Pave   NaN   \n",
       "4  255  906425045           50        RL          82.0     14235   Pave   NaN   \n",
       "\n",
       "  lot_shape land_contour  ... screen_porch pool_area pool_qc fence  \\\n",
       "0       IR1          Lvl  ...            0         0     NaN   NaN   \n",
       "1       IR1          Lvl  ...            0         0     NaN   NaN   \n",
       "2       Reg          Lvl  ...            0         0     NaN   NaN   \n",
       "3       Reg          Lvl  ...            0         0     NaN   NaN   \n",
       "4       IR1          Lvl  ...            0         0     NaN   NaN   \n",
       "\n",
       "  misc_feature misc_val mo_sold yr_sold  sale_type  saleprice  \n",
       "0          NaN        0       3    2010        WD      130500  \n",
       "1          NaN        0       4    2009        WD      220000  \n",
       "2          NaN        0       1    2010        WD      109000  \n",
       "3          NaN        0       4    2010        WD      174000  \n",
       "4          NaN        0       3    2010        WD      138500  \n",
       "\n",
       "[5 rows x 81 columns]"
      ]
     },
     "execution_count": 8,
     "metadata": {},
     "output_type": "execute_result"
    }
   ],
   "source": [
    "df_train.head()"
   ]
  },
  {
   "cell_type": "markdown",
   "id": "5f480c3d-6493-4565-b3e6-e0defaa61a06",
   "metadata": {},
   "source": [
    "Fill in all current Pandas identified NaN values with np.nan"
   ]
  },
  {
   "cell_type": "code",
   "execution_count": 11,
   "id": "7eca7a2e-9d9f-4e22-9cb0-3eb9d316c782",
   "metadata": {
    "tags": []
   },
   "outputs": [
    {
     "data": {
      "text/html": [
       "<div>\n",
       "<style scoped>\n",
       "    .dataframe tbody tr th:only-of-type {\n",
       "        vertical-align: middle;\n",
       "    }\n",
       "\n",
       "    .dataframe tbody tr th {\n",
       "        vertical-align: top;\n",
       "    }\n",
       "\n",
       "    .dataframe thead th {\n",
       "        text-align: right;\n",
       "    }\n",
       "</style>\n",
       "<table border=\"1\" class=\"dataframe\">\n",
       "  <thead>\n",
       "    <tr style=\"text-align: right;\">\n",
       "      <th></th>\n",
       "      <th>id</th>\n",
       "      <th>pid</th>\n",
       "      <th>ms_subclass</th>\n",
       "      <th>ms_zoning</th>\n",
       "      <th>lot_frontage</th>\n",
       "      <th>lot_area</th>\n",
       "      <th>street</th>\n",
       "      <th>alley</th>\n",
       "      <th>lot_shape</th>\n",
       "      <th>land_contour</th>\n",
       "      <th>...</th>\n",
       "      <th>screen_porch</th>\n",
       "      <th>pool_area</th>\n",
       "      <th>pool_qc</th>\n",
       "      <th>fence</th>\n",
       "      <th>misc_feature</th>\n",
       "      <th>misc_val</th>\n",
       "      <th>mo_sold</th>\n",
       "      <th>yr_sold</th>\n",
       "      <th>sale_type</th>\n",
       "      <th>saleprice</th>\n",
       "    </tr>\n",
       "  </thead>\n",
       "  <tbody>\n",
       "    <tr>\n",
       "      <th>0</th>\n",
       "      <td>109</td>\n",
       "      <td>533352170</td>\n",
       "      <td>60</td>\n",
       "      <td>RL</td>\n",
       "      <td>NaN</td>\n",
       "      <td>13517</td>\n",
       "      <td>Pave</td>\n",
       "      <td>NaN</td>\n",
       "      <td>IR1</td>\n",
       "      <td>Lvl</td>\n",
       "      <td>...</td>\n",
       "      <td>0</td>\n",
       "      <td>0</td>\n",
       "      <td>NaN</td>\n",
       "      <td>NaN</td>\n",
       "      <td>NaN</td>\n",
       "      <td>0</td>\n",
       "      <td>3</td>\n",
       "      <td>2010</td>\n",
       "      <td>WD</td>\n",
       "      <td>130500</td>\n",
       "    </tr>\n",
       "    <tr>\n",
       "      <th>1</th>\n",
       "      <td>544</td>\n",
       "      <td>531379050</td>\n",
       "      <td>60</td>\n",
       "      <td>RL</td>\n",
       "      <td>43.0</td>\n",
       "      <td>11492</td>\n",
       "      <td>Pave</td>\n",
       "      <td>NaN</td>\n",
       "      <td>IR1</td>\n",
       "      <td>Lvl</td>\n",
       "      <td>...</td>\n",
       "      <td>0</td>\n",
       "      <td>0</td>\n",
       "      <td>NaN</td>\n",
       "      <td>NaN</td>\n",
       "      <td>NaN</td>\n",
       "      <td>0</td>\n",
       "      <td>4</td>\n",
       "      <td>2009</td>\n",
       "      <td>WD</td>\n",
       "      <td>220000</td>\n",
       "    </tr>\n",
       "    <tr>\n",
       "      <th>2</th>\n",
       "      <td>153</td>\n",
       "      <td>535304180</td>\n",
       "      <td>20</td>\n",
       "      <td>RL</td>\n",
       "      <td>68.0</td>\n",
       "      <td>7922</td>\n",
       "      <td>Pave</td>\n",
       "      <td>NaN</td>\n",
       "      <td>Reg</td>\n",
       "      <td>Lvl</td>\n",
       "      <td>...</td>\n",
       "      <td>0</td>\n",
       "      <td>0</td>\n",
       "      <td>NaN</td>\n",
       "      <td>NaN</td>\n",
       "      <td>NaN</td>\n",
       "      <td>0</td>\n",
       "      <td>1</td>\n",
       "      <td>2010</td>\n",
       "      <td>WD</td>\n",
       "      <td>109000</td>\n",
       "    </tr>\n",
       "    <tr>\n",
       "      <th>3</th>\n",
       "      <td>318</td>\n",
       "      <td>916386060</td>\n",
       "      <td>60</td>\n",
       "      <td>RL</td>\n",
       "      <td>73.0</td>\n",
       "      <td>9802</td>\n",
       "      <td>Pave</td>\n",
       "      <td>NaN</td>\n",
       "      <td>Reg</td>\n",
       "      <td>Lvl</td>\n",
       "      <td>...</td>\n",
       "      <td>0</td>\n",
       "      <td>0</td>\n",
       "      <td>NaN</td>\n",
       "      <td>NaN</td>\n",
       "      <td>NaN</td>\n",
       "      <td>0</td>\n",
       "      <td>4</td>\n",
       "      <td>2010</td>\n",
       "      <td>WD</td>\n",
       "      <td>174000</td>\n",
       "    </tr>\n",
       "    <tr>\n",
       "      <th>4</th>\n",
       "      <td>255</td>\n",
       "      <td>906425045</td>\n",
       "      <td>50</td>\n",
       "      <td>RL</td>\n",
       "      <td>82.0</td>\n",
       "      <td>14235</td>\n",
       "      <td>Pave</td>\n",
       "      <td>NaN</td>\n",
       "      <td>IR1</td>\n",
       "      <td>Lvl</td>\n",
       "      <td>...</td>\n",
       "      <td>0</td>\n",
       "      <td>0</td>\n",
       "      <td>NaN</td>\n",
       "      <td>NaN</td>\n",
       "      <td>NaN</td>\n",
       "      <td>0</td>\n",
       "      <td>3</td>\n",
       "      <td>2010</td>\n",
       "      <td>WD</td>\n",
       "      <td>138500</td>\n",
       "    </tr>\n",
       "    <tr>\n",
       "      <th>...</th>\n",
       "      <td>...</td>\n",
       "      <td>...</td>\n",
       "      <td>...</td>\n",
       "      <td>...</td>\n",
       "      <td>...</td>\n",
       "      <td>...</td>\n",
       "      <td>...</td>\n",
       "      <td>...</td>\n",
       "      <td>...</td>\n",
       "      <td>...</td>\n",
       "      <td>...</td>\n",
       "      <td>...</td>\n",
       "      <td>...</td>\n",
       "      <td>...</td>\n",
       "      <td>...</td>\n",
       "      <td>...</td>\n",
       "      <td>...</td>\n",
       "      <td>...</td>\n",
       "      <td>...</td>\n",
       "      <td>...</td>\n",
       "      <td>...</td>\n",
       "    </tr>\n",
       "    <tr>\n",
       "      <th>2046</th>\n",
       "      <td>1587</td>\n",
       "      <td>921126030</td>\n",
       "      <td>20</td>\n",
       "      <td>RL</td>\n",
       "      <td>79.0</td>\n",
       "      <td>11449</td>\n",
       "      <td>Pave</td>\n",
       "      <td>NaN</td>\n",
       "      <td>IR1</td>\n",
       "      <td>HLS</td>\n",
       "      <td>...</td>\n",
       "      <td>0</td>\n",
       "      <td>0</td>\n",
       "      <td>NaN</td>\n",
       "      <td>NaN</td>\n",
       "      <td>NaN</td>\n",
       "      <td>0</td>\n",
       "      <td>1</td>\n",
       "      <td>2008</td>\n",
       "      <td>WD</td>\n",
       "      <td>298751</td>\n",
       "    </tr>\n",
       "    <tr>\n",
       "      <th>2047</th>\n",
       "      <td>785</td>\n",
       "      <td>905377130</td>\n",
       "      <td>30</td>\n",
       "      <td>RL</td>\n",
       "      <td>NaN</td>\n",
       "      <td>12342</td>\n",
       "      <td>Pave</td>\n",
       "      <td>NaN</td>\n",
       "      <td>IR1</td>\n",
       "      <td>Lvl</td>\n",
       "      <td>...</td>\n",
       "      <td>0</td>\n",
       "      <td>0</td>\n",
       "      <td>NaN</td>\n",
       "      <td>NaN</td>\n",
       "      <td>NaN</td>\n",
       "      <td>0</td>\n",
       "      <td>3</td>\n",
       "      <td>2009</td>\n",
       "      <td>WD</td>\n",
       "      <td>82500</td>\n",
       "    </tr>\n",
       "    <tr>\n",
       "      <th>2048</th>\n",
       "      <td>916</td>\n",
       "      <td>909253010</td>\n",
       "      <td>50</td>\n",
       "      <td>RL</td>\n",
       "      <td>57.0</td>\n",
       "      <td>7558</td>\n",
       "      <td>Pave</td>\n",
       "      <td>NaN</td>\n",
       "      <td>Reg</td>\n",
       "      <td>Bnk</td>\n",
       "      <td>...</td>\n",
       "      <td>0</td>\n",
       "      <td>0</td>\n",
       "      <td>NaN</td>\n",
       "      <td>NaN</td>\n",
       "      <td>NaN</td>\n",
       "      <td>0</td>\n",
       "      <td>3</td>\n",
       "      <td>2009</td>\n",
       "      <td>WD</td>\n",
       "      <td>177000</td>\n",
       "    </tr>\n",
       "    <tr>\n",
       "      <th>2049</th>\n",
       "      <td>639</td>\n",
       "      <td>535179160</td>\n",
       "      <td>20</td>\n",
       "      <td>RL</td>\n",
       "      <td>80.0</td>\n",
       "      <td>10400</td>\n",
       "      <td>Pave</td>\n",
       "      <td>NaN</td>\n",
       "      <td>Reg</td>\n",
       "      <td>Lvl</td>\n",
       "      <td>...</td>\n",
       "      <td>0</td>\n",
       "      <td>0</td>\n",
       "      <td>NaN</td>\n",
       "      <td>NaN</td>\n",
       "      <td>NaN</td>\n",
       "      <td>0</td>\n",
       "      <td>11</td>\n",
       "      <td>2009</td>\n",
       "      <td>WD</td>\n",
       "      <td>144000</td>\n",
       "    </tr>\n",
       "    <tr>\n",
       "      <th>2050</th>\n",
       "      <td>10</td>\n",
       "      <td>527162130</td>\n",
       "      <td>60</td>\n",
       "      <td>RL</td>\n",
       "      <td>60.0</td>\n",
       "      <td>7500</td>\n",
       "      <td>Pave</td>\n",
       "      <td>NaN</td>\n",
       "      <td>Reg</td>\n",
       "      <td>Lvl</td>\n",
       "      <td>...</td>\n",
       "      <td>0</td>\n",
       "      <td>0</td>\n",
       "      <td>NaN</td>\n",
       "      <td>NaN</td>\n",
       "      <td>NaN</td>\n",
       "      <td>0</td>\n",
       "      <td>6</td>\n",
       "      <td>2010</td>\n",
       "      <td>WD</td>\n",
       "      <td>189000</td>\n",
       "    </tr>\n",
       "  </tbody>\n",
       "</table>\n",
       "<p>2051 rows × 81 columns</p>\n",
       "</div>"
      ],
      "text/plain": [
       "        id        pid  ms_subclass ms_zoning  lot_frontage  lot_area street  \\\n",
       "0      109  533352170           60        RL           NaN     13517   Pave   \n",
       "1      544  531379050           60        RL          43.0     11492   Pave   \n",
       "2      153  535304180           20        RL          68.0      7922   Pave   \n",
       "3      318  916386060           60        RL          73.0      9802   Pave   \n",
       "4      255  906425045           50        RL          82.0     14235   Pave   \n",
       "...    ...        ...          ...       ...           ...       ...    ...   \n",
       "2046  1587  921126030           20        RL          79.0     11449   Pave   \n",
       "2047   785  905377130           30        RL           NaN     12342   Pave   \n",
       "2048   916  909253010           50        RL          57.0      7558   Pave   \n",
       "2049   639  535179160           20        RL          80.0     10400   Pave   \n",
       "2050    10  527162130           60        RL          60.0      7500   Pave   \n",
       "\n",
       "     alley lot_shape land_contour  ... screen_porch pool_area pool_qc fence  \\\n",
       "0      NaN       IR1          Lvl  ...            0         0     NaN   NaN   \n",
       "1      NaN       IR1          Lvl  ...            0         0     NaN   NaN   \n",
       "2      NaN       Reg          Lvl  ...            0         0     NaN   NaN   \n",
       "3      NaN       Reg          Lvl  ...            0         0     NaN   NaN   \n",
       "4      NaN       IR1          Lvl  ...            0         0     NaN   NaN   \n",
       "...    ...       ...          ...  ...          ...       ...     ...   ...   \n",
       "2046   NaN       IR1          HLS  ...            0         0     NaN   NaN   \n",
       "2047   NaN       IR1          Lvl  ...            0         0     NaN   NaN   \n",
       "2048   NaN       Reg          Bnk  ...            0         0     NaN   NaN   \n",
       "2049   NaN       Reg          Lvl  ...            0         0     NaN   NaN   \n",
       "2050   NaN       Reg          Lvl  ...            0         0     NaN   NaN   \n",
       "\n",
       "     misc_feature misc_val mo_sold yr_sold  sale_type  saleprice  \n",
       "0             NaN        0       3    2010        WD      130500  \n",
       "1             NaN        0       4    2009        WD      220000  \n",
       "2             NaN        0       1    2010        WD      109000  \n",
       "3             NaN        0       4    2010        WD      174000  \n",
       "4             NaN        0       3    2010        WD      138500  \n",
       "...           ...      ...     ...     ...        ...        ...  \n",
       "2046          NaN        0       1    2008        WD      298751  \n",
       "2047          NaN        0       3    2009        WD       82500  \n",
       "2048          NaN        0       3    2009        WD      177000  \n",
       "2049          NaN        0      11    2009        WD      144000  \n",
       "2050          NaN        0       6    2010        WD      189000  \n",
       "\n",
       "[2051 rows x 81 columns]"
      ]
     },
     "execution_count": 11,
     "metadata": {},
     "output_type": "execute_result"
    }
   ],
   "source": [
    "df_train.fillna(np.nan)"
   ]
  },
  {
   "cell_type": "markdown",
   "id": "ef3b0f48-75e5-4a2c-bae0-7626515122e1",
   "metadata": {},
   "source": [
    "Plot Missingno to get a birds eye view on the null values in this dataset"
   ]
  },
  {
   "cell_type": "code",
   "execution_count": 174,
   "id": "9c9d430f-8c3e-4665-8919-b18d209ab5c6",
   "metadata": {},
   "outputs": [
    {
     "data": {
      "text/plain": [
       "<AxesSubplot:>"
      ]
     },
     "execution_count": 174,
     "metadata": {},
     "output_type": "execute_result"
    },
    {
     "data": {
      "image/png": "[encoded data removed]",
      "text/plain": [
       "<Figure size 2500x1000 with 2 Axes>"
      ]
     },
     "metadata": {},
     "output_type": "display_data"
    }
   ],
   "source": [
    "%matplotlib inline\n",
    "msno.matrix(df_train.sample(250))"
   ]
  },
  {
   "cell_type": "markdown",
   "id": "27872dca-aa06-49d5-88a6-ee11511353bd",
   "metadata": {},
   "source": [
    "From the Missingno sample, we have 4 Features that appear to be mostly null, and 1 additional feature that is potentially 50% null. Let's dive deeper into the data to identify these null columns."
   ]
  },
  {
   "cell_type": "code",
   "execution_count": 175,
   "id": "b936c12b-7a21-42e7-85ca-8aa9481e26b9",
   "metadata": {},
   "outputs": [
    {
     "data": {
      "text/plain": [
       "pool_qc         2042\n",
       "misc_feature    1986\n",
       "alley           1911\n",
       "fence           1651\n",
       "fireplace_qu    1000\n",
       "                ... \n",
       "heating_qc         0\n",
       "central_air        0\n",
       "electrical         0\n",
       "1st_flr_sf         0\n",
       "saleprice          0\n",
       "Length: 81, dtype: int64"
      ]
     },
     "execution_count": 175,
     "metadata": {},
     "output_type": "execute_result"
    }
   ],
   "source": [
    "df_train.isnull().sum().sort_values(ascending=False)"
   ]
  },
  {
   "cell_type": "markdown",
   "id": "7efb7de7-2218-4e30-a591-f1a487926978",
   "metadata": {},
   "source": [
    "We have identified the 5 categories that spotted during the Missingno null value population. Before we work on cleaning them, let's take a look at their unique values:"
   ]
  },
  {
   "cell_type": "markdown",
   "id": "bde26d6b-6d13-43e0-bcf8-ed735cbd57bb",
   "metadata": {},
   "source": [
    "`pool_qc`: According to the data dictionary that comes with the dataset, Pool Quality has a range of 5 values:\n",
    "`Ex:Excellent`, `Gd: Good`, `TA: Average/Typical`, `Fa: Fair`, `NA: No Pool`\n",
    "It also has an assocated column called Pool Area with 2042 individual '0' values. This lines up perfectly with `pool_qc`'s 2042 null count. Safe to say that this data is NMAR and is actually because the area of Ames Iowa doesn't actually have that many pools in regards to sale records. Vote to remove column from the dataframe."
   ]
  },
  {
   "cell_type": "code",
   "execution_count": 176,
   "id": "ea69e469-6983-4db8-a7bb-0f323e1a68ef",
   "metadata": {
    "tags": []
   },
   "outputs": [
    {
     "data": {
      "text/plain": [
       "0      2042\n",
       "519       1\n",
       "576       1\n",
       "800       1\n",
       "228       1\n",
       "480       1\n",
       "648       1\n",
       "738       1\n",
       "368       1\n",
       "561       1\n",
       "Name: pool_area, dtype: int64"
      ]
     },
     "execution_count": 176,
     "metadata": {},
     "output_type": "execute_result"
    }
   ],
   "source": [
    "df_train['pool_area'].value_counts()"
   ]
  },
  {
   "cell_type": "markdown",
   "id": "112e93f0-7b65-4f3d-9c72-9fe45be6ba9f",
   "metadata": {},
   "source": [
    "`misc_features`: According to the data dictionary that comes with the dataset, Misc Features has a range of 6 values:\n",
    "`Elev: Elevator`, `Gar2: 2nd Garage`, `Othr: Other`, `Shed: Shed`, `TenC: Tennis Court`, `NA: None`\n",
    "Similar to `pool_qc`, `misc_features` also has an associated column called `misc_val` with 1986 0 values. This lines up perfectly with `pool_qc`'s 1986 null count and can be explained with the NA value of the misc features column."
   ]
  },
  {
   "cell_type": "code",
   "execution_count": 177,
   "id": "5cbea0fc-4a2d-4ad8-9ace-3f7b17441312",
   "metadata": {
    "tags": []
   },
   "outputs": [
    {
     "data": {
      "text/plain": [
       "0        1986\n",
       "400        12\n",
       "500         8\n",
       "600         6\n",
       "450         5\n",
       "2000        5\n",
       "700         4\n",
       "1200        2\n",
       "3000        2\n",
       "2500        2\n",
       "4500        2\n",
       "17000       1\n",
       "1300        1\n",
       "900         1\n",
       "1500        1\n",
       "800         1\n",
       "6500        1\n",
       "54          1\n",
       "3500        1\n",
       "1150        1\n",
       "300         1\n",
       "455         1\n",
       "8300        1\n",
       "460         1\n",
       "12500       1\n",
       "480         1\n",
       "650         1\n",
       "80          1\n",
       "Name: misc_val, dtype: int64"
      ]
     },
     "execution_count": 177,
     "metadata": {},
     "output_type": "execute_result"
    }
   ],
   "source": [
    "df_train['misc_val'].value_counts()"
   ]
  },
  {
   "cell_type": "markdown",
   "id": "252a743a-2acf-44f9-8b5f-50614583e43b",
   "metadata": {},
   "source": [
    "`Alley`: According to the data dictionary that comes with the dataset, Pool Quality has a range of 3 values:\n",
    "`Grvl: Gravel`, `Pave: Paved`, `NA: No Alley Access` <br>\n",
    "`Alley` does not have a sister column to compare data with, however `Alley` does follow the same pattern of an NA value for None/No as seen in the previous features"
   ]
  },
  {
   "cell_type": "code",
   "execution_count": 178,
   "id": "9a59761f-fd4b-403c-8131-5354549f852e",
   "metadata": {},
   "outputs": [
    {
     "data": {
      "text/plain": [
       "Grvl    85\n",
       "Pave    55\n",
       "Name: alley, dtype: int64"
      ]
     },
     "execution_count": 178,
     "metadata": {},
     "output_type": "execute_result"
    }
   ],
   "source": [
    "df_train['alley'].value_counts()"
   ]
  },
  {
   "cell_type": "markdown",
   "id": "d8555273-892a-40b6-bad9-be5c554ab181",
   "metadata": {},
   "source": [
    "`Fence`: According to the data dictionary that comes with the dataset, `Fence` has a range of 5 values:\n",
    "`GdPrv: Good Privacy`, `MnPrv: Minimum Privacy`, `GdWo: Good Wood`, `MnWw: Minimum Wood/Wire`, `NA: No Fence`\n",
    "`Fence` does not have a sister column to compare data with. `Fence` does follow a similar pattern of an NA value for None/No."
   ]
  },
  {
   "cell_type": "markdown",
   "id": "5dde482c-47dc-4326-a6d3-371b8b68d057",
   "metadata": {},
   "source": [
    "#### For `pool_qc`,`misc_features`,`Alley`, and `Fence`, we have enough evidence to drop these columns from the dataframe. These features do not have enough observations to meaningfully impute values into them either."
   ]
  },
  {
   "cell_type": "code",
   "execution_count": 12,
   "id": "608bf7b3-e058-453a-a76e-3d8b5dad1c4b",
   "metadata": {},
   "outputs": [],
   "source": [
    "df_train.drop(columns=['pool_qc','misc_feature','alley','fence'], inplace=True)\n",
    "df_test.drop(columns=['pool_qc','misc_feature','alley','fence'], inplace=True)"
   ]
  },
  {
   "cell_type": "code",
   "execution_count": 180,
   "id": "c8f5ce65-0552-4e95-abbe-dfde27623aec",
   "metadata": {
    "tags": []
   },
   "outputs": [
    {
     "data": {
      "text/plain": [
       "fireplace_qu      1000\n",
       "lot_frontage       330\n",
       "garage_cond        114\n",
       "garage_yr_blt      114\n",
       "garage_finish      114\n",
       "garage_qual        114\n",
       "garage_type        113\n",
       "bsmt_exposure       58\n",
       "bsmtfin_type_2      56\n",
       "bsmt_qual           55\n",
       "bsmt_cond           55\n",
       "bsmtfin_type_1      55\n",
       "mas_vnr_type        22\n",
       "mas_vnr_area        22\n",
       "bsmt_half_bath       2\n",
       "bsmt_full_bath       2\n",
       "bsmtfin_sf_1         1\n",
       "garage_area          1\n",
       "garage_cars          1\n",
       "bsmtfin_sf_2         1\n",
       "bsmt_unf_sf          1\n",
       "total_bsmt_sf        1\n",
       "dtype: int64"
      ]
     },
     "execution_count": 180,
     "metadata": {},
     "output_type": "execute_result"
    }
   ],
   "source": [
    "# Check remaining null count, code sourced from speedrun\n",
    "df_train.isnull().sum().sort_values(ascending = False).loc[lambda x: x > 0]"
   ]
  },
  {
   "cell_type": "markdown",
   "id": "220544b7-5f93-46da-b3f2-c03d2bf16d3c",
   "metadata": {},
   "source": [
    "#### Having dropped the 5 greatest counts of null let's turn our focus to the remaining starting with fireplace quality"
   ]
  },
  {
   "cell_type": "code",
   "execution_count": 181,
   "id": "99b48e94-fe19-481e-ba6f-0de09fc4e19d",
   "metadata": {},
   "outputs": [
    {
     "data": {
      "text/plain": [
       "fireplace_qu  fireplaces\n",
       "Ex            1              29\n",
       "              2               2\n",
       "Fa            1              49\n",
       "              2               9\n",
       "              3               1\n",
       "Gd            1             447\n",
       "              2              74\n",
       "              3               2\n",
       "Po            1              31\n",
       "TA            1             342\n",
       "              2              61\n",
       "              3               3\n",
       "              4               1\n",
       "Name: fireplaces, dtype: int64"
      ]
     },
     "execution_count": 181,
     "metadata": {},
     "output_type": "execute_result"
    }
   ],
   "source": [
    "df_train.groupby('fireplace_qu')['fireplaces'].value_counts()"
   ]
  },
  {
   "cell_type": "code",
   "execution_count": 182,
   "id": "4b0804f4-2a1c-4d57-bd50-9208f5837703",
   "metadata": {},
   "outputs": [
    {
     "data": {
      "text/plain": [
       "0    1000\n",
       "1     898\n",
       "2     146\n",
       "3       6\n",
       "4       1\n",
       "Name: fireplaces, dtype: int64"
      ]
     },
     "execution_count": 182,
     "metadata": {},
     "output_type": "execute_result"
    }
   ],
   "source": [
    "df_train['fireplaces'].value_counts()"
   ]
  },
  {
   "cell_type": "markdown",
   "id": "446936cd-04dc-4ae6-9538-2a8eca381471",
   "metadata": {},
   "source": [
    "##### fireplace_qu follows the similar pattern that Alley, Fence, etc. did where one of the values for 'No Fireplaces' is NA which pandas registers as null. As the fireplaces feature also has 1000 observations with zero fireplaces, to preserve data quality let's fillna with a new string value that represents no fireplaces"
   ]
  },
  {
   "cell_type": "code",
   "execution_count": 13,
   "id": "fa974478-25bb-4327-b0b0-39e8361d07a3",
   "metadata": {},
   "outputs": [],
   "source": [
    "df_train['fireplace_qu'].fillna('no_fp',inplace=True)"
   ]
  },
  {
   "cell_type": "code",
   "execution_count": 184,
   "id": "a3e773a7-a37e-4386-8ae4-6f78a20c75f1",
   "metadata": {},
   "outputs": [
    {
     "data": {
      "text/plain": [
       "0"
      ]
     },
     "execution_count": 184,
     "metadata": {},
     "output_type": "execute_result"
    }
   ],
   "source": [
    "df_train['fireplace_qu'].isnull().sum()"
   ]
  },
  {
   "cell_type": "code",
   "execution_count": 185,
   "id": "4b28a827-60b0-4db9-9a31-a12fc2124805",
   "metadata": {},
   "outputs": [
    {
     "data": {
      "text/plain": [
       "no_fp    1000\n",
       "Gd        523\n",
       "TA        407\n",
       "Fa         59\n",
       "Po         31\n",
       "Ex         31\n",
       "Name: fireplace_qu, dtype: int64"
      ]
     },
     "execution_count": 185,
     "metadata": {},
     "output_type": "execute_result"
    }
   ],
   "source": [
    "df_train['fireplace_qu'].value_counts()"
   ]
  },
  {
   "cell_type": "markdown",
   "id": "15369ce5-7ca7-4582-8bac-8545cc442452",
   "metadata": {},
   "source": [
    "In order to preserve data quality for the rest of the features, let's fill in median for numerical features and mode for categorical features. Median for numerical because it is a more robust option that mitigates the effects of outliers, while Mean includes the outliers in its calculation."
   ]
  },
  {
   "cell_type": "code",
   "execution_count": 14,
   "id": "6e65a40e-92b8-4d20-a371-9364dda4216f",
   "metadata": {},
   "outputs": [],
   "source": [
    "# save respective index for merge\n",
    "train_id = df_train['id']\n",
    "test_id = df_test['id']"
   ]
  },
  {
   "cell_type": "code",
   "execution_count": 187,
   "id": "f256301e-8d4a-4f8b-b042-39e13be12b89",
   "metadata": {},
   "outputs": [],
   "source": [
    "# split each set into it's own split of number and object dataframes to be transformed\n",
    "df_train_num = df_train.select_dtypes('number')\n",
    "df_train_obj = df_train.select_dtypes('object')\n",
    "df_test_num = df_test.select_dtypes('number')\n",
    "df_test_obj = df_test.select_dtypes('object')"
   ]
  },
  {
   "cell_type": "code",
   "execution_count": 188,
   "id": "5cfe29c9-a847-4c64-9eb1-16b9041bbb5d",
   "metadata": {},
   "outputs": [
    {
     "data": {
      "text/plain": [
       "((2051, 39), (878, 38), (2051, 38), (878, 38))"
      ]
     },
     "execution_count": 188,
     "metadata": {},
     "output_type": "execute_result"
    }
   ],
   "source": [
    "# Check Shape sizes\n",
    "df_train_num.shape, df_test_num.shape, df_train_obj.shape, df_test_obj.shape"
   ]
  },
  {
   "cell_type": "code",
   "execution_count": 189,
   "id": "fabedf61-30ac-407e-aad6-8b1cbc930327",
   "metadata": {},
   "outputs": [
    {
     "data": {
      "text/html": [
       "<div>\n",
       "<style scoped>\n",
       "    .dataframe tbody tr th:only-of-type {\n",
       "        vertical-align: middle;\n",
       "    }\n",
       "\n",
       "    .dataframe tbody tr th {\n",
       "        vertical-align: top;\n",
       "    }\n",
       "\n",
       "    .dataframe thead th {\n",
       "        text-align: right;\n",
       "    }\n",
       "</style>\n",
       "<table border=\"1\" class=\"dataframe\">\n",
       "  <thead>\n",
       "    <tr style=\"text-align: right;\">\n",
       "      <th></th>\n",
       "      <th>id</th>\n",
       "      <th>pid</th>\n",
       "      <th>ms_subclass</th>\n",
       "      <th>lot_frontage</th>\n",
       "      <th>lot_area</th>\n",
       "      <th>overall_qual</th>\n",
       "      <th>overall_cond</th>\n",
       "      <th>year_built</th>\n",
       "      <th>year_remod/add</th>\n",
       "      <th>mas_vnr_area</th>\n",
       "      <th>...</th>\n",
       "      <th>wood_deck_sf</th>\n",
       "      <th>open_porch_sf</th>\n",
       "      <th>enclosed_porch</th>\n",
       "      <th>3ssn_porch</th>\n",
       "      <th>screen_porch</th>\n",
       "      <th>pool_area</th>\n",
       "      <th>misc_val</th>\n",
       "      <th>mo_sold</th>\n",
       "      <th>yr_sold</th>\n",
       "      <th>saleprice</th>\n",
       "    </tr>\n",
       "  </thead>\n",
       "  <tbody>\n",
       "    <tr>\n",
       "      <th>0</th>\n",
       "      <td>109</td>\n",
       "      <td>533352170</td>\n",
       "      <td>60</td>\n",
       "      <td>NaN</td>\n",
       "      <td>13517</td>\n",
       "      <td>6</td>\n",
       "      <td>8</td>\n",
       "      <td>1976</td>\n",
       "      <td>2005</td>\n",
       "      <td>289.0</td>\n",
       "      <td>...</td>\n",
       "      <td>0</td>\n",
       "      <td>44</td>\n",
       "      <td>0</td>\n",
       "      <td>0</td>\n",
       "      <td>0</td>\n",
       "      <td>0</td>\n",
       "      <td>0</td>\n",
       "      <td>3</td>\n",
       "      <td>2010</td>\n",
       "      <td>130500</td>\n",
       "    </tr>\n",
       "  </tbody>\n",
       "</table>\n",
       "<p>1 rows × 39 columns</p>\n",
       "</div>"
      ],
      "text/plain": [
       "    id        pid  ms_subclass  lot_frontage  lot_area  overall_qual  \\\n",
       "0  109  533352170           60           NaN     13517             6   \n",
       "\n",
       "   overall_cond  year_built  year_remod/add  mas_vnr_area  ...  wood_deck_sf  \\\n",
       "0             8        1976            2005         289.0  ...             0   \n",
       "\n",
       "   open_porch_sf  enclosed_porch  3ssn_porch  screen_porch  pool_area  \\\n",
       "0             44               0           0             0          0   \n",
       "\n",
       "   misc_val  mo_sold  yr_sold  saleprice  \n",
       "0         0        3     2010     130500  \n",
       "\n",
       "[1 rows x 39 columns]"
      ]
     },
     "execution_count": 189,
     "metadata": {},
     "output_type": "execute_result"
    }
   ],
   "source": [
    "df_train_num.head(1)"
   ]
  },
  {
   "cell_type": "code",
   "execution_count": 190,
   "id": "f409cf41-3f18-4a32-b877-02418c93ec25",
   "metadata": {},
   "outputs": [],
   "source": [
    "# set variable lists for each type of \n",
    "nums = [df_train_num, df_test_num]\n",
    "objs = [df_train_obj, df_test_obj]\n",
    "\n",
    "for num in nums:\n",
    "    # for each column\n",
    "    for col in num.columns:\n",
    "        # fill na values with column median\n",
    "        num[col].fillna(num[col].median(), inplace = True)\n",
    "        \n",
    "for obj in objs:\n",
    "    # for each column\n",
    "    for col in obj.columns:\n",
    "        # fill na values with column mode as index[0] of value counts of that column\n",
    "        obj[col].fillna(obj[col].value_counts().index[0], inplace = True) "
   ]
  },
  {
   "cell_type": "code",
   "execution_count": 193,
   "id": "f1c119d2-3024-4219-8395-b65b98a5794b",
   "metadata": {},
   "outputs": [
    {
     "data": {
      "text/plain": [
       "(0, 0, 0, 0)"
      ]
     },
     "execution_count": 193,
     "metadata": {},
     "output_type": "execute_result"
    }
   ],
   "source": [
    "df_train_num.isnull().sum().sum(),df_test_num.isnull().sum().sum(),\\\n",
    "df_train_obj.isnull().sum().sum(),df_test_obj.isnull().sum().sum()"
   ]
  },
  {
   "cell_type": "markdown",
   "id": "715a2b52-787e-4bb6-941e-c250c97e220e",
   "metadata": {},
   "source": [
    "##### All null values have been cleared from all splits, let's merge the respective dataframes back together to save, and load the new cleaned data sets in a new file devoted to EDA. With the amount of features both numerical and categorical, we are going to need a blank canvas to showcase the findings appropriately."
   ]
  },
  {
   "cell_type": "code",
   "execution_count": 194,
   "id": "9e3d9152-9a90-4627-a365-bec26c21260c",
   "metadata": {},
   "outputs": [],
   "source": [
    "# add original dataframe index back to the objects\n",
    "df_train_obj['id'] = train_id\n",
    "df_test_obj['id'] = test_id"
   ]
  },
  {
   "cell_type": "code",
   "execution_count": 195,
   "id": "73d47666-0743-4f3a-85a0-1694a951b817",
   "metadata": {},
   "outputs": [],
   "source": [
    "# merge the split dataframes for test and train on the index column\n",
    "df_train_clean = df_train_num.merge(df_train_obj, how='left', on='id')\n",
    "df_test_clean = df_test_num.merge(df_test_obj, how='left', on='id')"
   ]
  },
  {
   "cell_type": "code",
   "execution_count": 197,
   "id": "81579f9d-9c7c-4cb1-b89b-ed4b0bd6514d",
   "metadata": {},
   "outputs": [
    {
     "data": {
      "text/plain": [
       "((2051, 77), (878, 76))"
      ]
     },
     "execution_count": 197,
     "metadata": {},
     "output_type": "execute_result"
    }
   ],
   "source": [
    "# check if shapes line up appropriately\n",
    "df_train_clean.shape, df_test_clean.shape"
   ]
  },
  {
   "cell_type": "code",
   "execution_count": 198,
   "id": "2e23ce59-68f9-4b12-9627-f505b6bc4a5e",
   "metadata": {},
   "outputs": [],
   "source": [
    "# save cleaned datasets for later use\n",
    "df_train_clean.to_csv('../cleaned_datasets/cleaned_train.csv')\n",
    "df_test_clean.to_csv('../cleaned_datasets/cleaned_test.csv')"
   ]
  }
 ],
 "metadata": {
  "kernelspec": {
   "display_name": "Python 3 (ipykernel)",
   "language": "python",
   "name": "python3"
  },
  "language_info": {
   "codemirror_mode": {
    "name": "ipython",
    "version": 3
   },
   "file_extension": ".py",
   "mimetype": "text/x-python",
   "name": "python",
   "nbconvert_exporter": "python",
   "pygments_lexer": "ipython3",
   "version": "3.9.13"
  }
 },
 "nbformat": 4,
 "nbformat_minor": 5
}
